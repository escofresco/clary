{
 "cells": [
  {
   "cell_type": "code",
   "execution_count": 6,
   "metadata": {},
   "outputs": [
    {
     "name": "stdout",
     "output_type": "stream",
     "text": [
      "Requirement already satisfied: pyo in /usr/local/lib/python3.8/site-packages (1.0.3)\r\n"
     ]
    }
   ],
   "source": [
    "!pip3 install pyo"
   ]
  },
  {
   "cell_type": "code",
   "execution_count": 7,
   "metadata": {},
   "outputs": [],
   "source": [
    "from pyo import *"
   ]
  },
  {
   "cell_type": "code",
   "execution_count": 8,
   "metadata": {},
   "outputs": [
    {
     "name": "stdout",
     "output_type": "stream",
     "text": [
      "Pyo warning: Portmidi warning: no midi device found!\n",
      "Portmidi closed.\n"
     ]
    },
    {
     "data": {
      "text/plain": [
       "<pyo.lib.server.Server at 0x105fa9e80>"
      ]
     },
     "execution_count": 8,
     "metadata": {},
     "output_type": "execute_result"
    }
   ],
   "source": [
    "s = Server().boot()\n",
    "s.start()"
   ]
  },
  {
   "cell_type": "code",
   "execution_count": 9,
   "metadata": {},
   "outputs": [],
   "source": [
    "### signal shape (in this case, a square wave)\n",
    "wav = SquareTable()\n",
    "\n",
    "### beat timing\n",
    "beat = Metro(time=0.125, poly=5).play()\n",
    "# beat = Beat(time=0.125, taps=64, poly=5).play()\n",
    "\n",
    "### amplitude envelope shape\n",
    "envelope = CosTable([(0,0), (100,1), (500,.3), (8191,0)])\n",
    "# envelope = CurveTable([(0,0),(2048,.5),(4096,.2),(6144,.5),(8192,0)], 0, 20)\n",
    "\n",
    "### amplitude\n",
    "amplitude = TrigEnv(beat, table=envelope, dur=0.25, mul=0.6)\n",
    "\n",
    "### random notes\n",
    "pitch = TrigXnoiseMidi(beat, dist=3, scale=0, mrange=(96, 48))"
   ]
  },
  {
   "cell_type": "code",
   "execution_count": null,
   "metadata": {},
   "outputs": [],
   "source": []
  }
 ],
 "metadata": {
  "kernelspec": {
   "display_name": "Python 3",
   "language": "python",
   "name": "python3"
  },
  "language_info": {
   "codemirror_mode": {
    "name": "ipython",
    "version": 3
   },
   "file_extension": ".py",
   "mimetype": "text/x-python",
   "name": "python",
   "nbconvert_exporter": "python",
   "pygments_lexer": "ipython3",
   "version": "3.8.6"
  }
 },
 "nbformat": 4,
 "nbformat_minor": 2
}
